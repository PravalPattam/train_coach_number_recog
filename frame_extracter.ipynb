{
 "cells": [
  {
   "cell_type": "code",
   "execution_count": 10,
   "metadata": {},
   "outputs": [
    {
     "name": "stdout",
     "output_type": "stream",
     "text": [
      "Frames extracted and saved successfully!\n"
     ]
    }
   ],
   "source": [
    "import cv2\n",
    "import os\n",
    "\n",
    "def extract_frames(input_video_path, output_directory, frame_size):\n",
    "    if not os.path.exists(output_directory):\n",
    "        os.makedirs(output_directory)\n",
    "\n",
    "    cap = cv2.VideoCapture(input_video_path)\n",
    "    \n",
    "    frame_count = int(cap.get(cv2.CAP_PROP_FRAME_COUNT))\n",
    "    fps = int(cap.get(cv2.CAP_PROP_FPS))\n",
    "\n",
    "    for frame_number in range(frame_count):\n",
    "        ret, frame = cap.read()\n",
    "        if not ret:\n",
    "            break\n",
    "\n",
    "        resized_frame = cv2.resize(frame, frame_size)\n",
    "\n",
    "        output_path = os.path.join(output_directory, f\"frame_{frame_number:04d}.jpg\")\n",
    "        cv2.imwrite(output_path, resized_frame)\n",
    "\n",
    "    cap.release()\n",
    "\n",
    "    print(\"Frames extracted and saved successfully!\")\n",
    "\n",
    "if __name__ == \"__main__\":\n",
    "    input_video_path = 'D:\\Developer\\LabToMarket\\Python scripts\\D01_20230813074145.mp4'\n",
    "    output_directory = 'D01_20230813074145_frames'\n",
    "\n",
    "    width = 1280\n",
    "    height = 720\n",
    "    frame_size = (width, height)\n",
    "\n",
    "    extract_frames(input_video_path, output_directory, frame_size)"
   ]
  }
 ],
 "metadata": {
  "kernelspec": {
   "display_name": "Python 3",
   "language": "python",
   "name": "python3"
  },
  "language_info": {
   "codemirror_mode": {
    "name": "ipython",
    "version": 3
   },
   "file_extension": ".py",
   "mimetype": "text/x-python",
   "name": "python",
   "nbconvert_exporter": "python",
   "pygments_lexer": "ipython3",
   "version": "3.11.4"
  },
  "orig_nbformat": 4
 },
 "nbformat": 4,
 "nbformat_minor": 2
}
